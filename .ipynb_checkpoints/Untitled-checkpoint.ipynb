{
 "cells": [
  {
   "cell_type": "code",
   "execution_count": 2,
   "metadata": {},
   "outputs": [
    {
     "name": "stdout",
     "output_type": "stream",
     "text": [
      "expressiont is:  (x1 - 0.2)**2 + (0.00316227766016838*exp(x2) - 0.00286134715313955)**2 + (2*x1**2 + x2**2 - 1)**2 + (0.00316227766016838*exp(x1/10) + 0.00316227766016838*exp(x2/10) - 0.00735727196109635)**2\n"
     ]
    }
   ],
   "source": [
    "import numpy as np\n",
    "from functions import BoxThreeDimensional\n",
    "from scipy.optimize import line_search\n",
    "\n",
    "'''all input and output should be passed as numpy array with dtype np.float64\n",
    "'''\n",
    "\n",
    "from functions import Penalty2, PDQ\n",
    "from optimizer import Zuni_Newton\n",
    "\n",
    "n = 2\n",
    "# object_f = PDQ(n)\n",
    "object_f = Penalty2(n)\n",
    "# object_f = BoxThreeDimensional(3)\n",
    "# print(object_f.calculate_value(np.array([ 0.20000619,  0.47799023,  0.2758507,  -0.04873578])))\n",
    "# print(object_f.calculate_derivative(np.array([0.5]*n)))\n",
    "# print(object_f.calculate_hessian(np.array([0.5]*n)))\n",
    "# penalty2_Zuni_Newton = Zuni_Newton(object_f.calculate_value, object_f.calculate_derivative, object_f.calculate_hessian)\n",
    "# penalty2_Zuni_Newton.optimize(np.array([0.5]*n, np.float64))\n",
    "#\n",
    "\n",
    "# object_f = BoxThreeDimensional(3)\n",
    "# xk = object_f.calculate_value([0,0,0])\n",
    "# print(xk)"
   ]
  },
  {
   "cell_type": "code",
   "execution_count": 28,
   "metadata": {},
   "outputs": [
    {
     "data": {
      "image/png": "[encoded data removed]",
      "text/plain": [
       "<matplotlib.figure.Figure at 0x15152a6a58>"
      ]
     },
     "metadata": {},
     "output_type": "display_data"
    }
   ],
   "source": [
    "import numpy as np\n",
    "import pandas as pd\n",
    "import matplotlib.pyplot as plt\n",
    " \n",
    "# 计算x,y坐标对应的高度值\n",
    "def f(x, y):\n",
    "    return (1-x/2+x**5+y**3) * np.exp(-x**2-y**2)\n",
    " \n",
    "# 生成x,y的数据\n",
    "n = 10\n",
    "x = np.linspace(-3, 3, n)\n",
    "y = np.linspace(-3, 3, n//2)\n",
    " \n",
    "# 把x,y数据生成mesh网格状的数据，因为等高线的显示是在网格的基础上添加上高度值\n",
    "X, Y = np.meshgrid(x, y)\n",
    "\n",
    "\n",
    "# 填充等高线\n",
    "plt.contourf(X, Y, f(X, Y))\n",
    "# 显示图表\n",
    "plt.show()"
   ]
  },
  {
   "cell_type": "code",
   "execution_count": 29,
   "metadata": {},
   "outputs": [],
   "source": [
    "res = f(X,Y)"
   ]
  },
  {
   "cell_type": "code",
   "execution_count": 30,
   "metadata": {},
   "outputs": [
    {
     "data": {
      "text/plain": [
       "(5, 10)"
      ]
     },
     "execution_count": 30,
     "metadata": {},
     "output_type": "execute_result"
    }
   ],
   "source": [
    "res.shape"
   ]
  },
  {
   "cell_type": "raw",
   "metadata": {},
   "source": []
  },
  {
   "cell_type": "code",
   "execution_count": 11,
   "metadata": {},
   "outputs": [
    {
     "data": {
      "text/plain": [
       "array([[-4.07401958e-06, -4.52491734e-06, -5.01942805e-06, ...,\n",
       "         3.97141851e-06,  3.61338015e-06,  3.28206063e-06],\n",
       "       [-4.67810834e-06, -5.19541902e-06, -5.76269208e-06, ...,\n",
       "         4.58568650e-06,  4.17168372e-06,  3.78866978e-06],\n",
       "       [-5.36599501e-06, -5.95886771e-06, -6.60891625e-06, ...,\n",
       "         5.28878750e-06,  4.81064681e-06,  4.36840125e-06],\n",
       "       ...,\n",
       "       [-4.32809319e-06, -4.76425262e-06, -5.23544732e-06, ...,\n",
       "         6.66225642e-06,  6.00526190e-06,  5.40630307e-06],\n",
       "       [-3.75361065e-06, -4.13133100e-06, -4.53929230e-06, ...,\n",
       "         5.80908627e-06,  5.23577174e-06,  4.71316747e-06],\n",
       "       [-3.25160068e-06, -3.57832103e-06, -3.93111045e-06, ...,\n",
       "         5.05973610e-06,  4.55997646e-06,  4.10447954e-06]])"
      ]
     },
     "execution_count": 11,
     "metadata": {},
     "output_type": "execute_result"
    }
   ],
   "source": [
    "f(X,Y)"
   ]
  },
  {
   "cell_type": "code",
   "execution_count": null,
   "metadata": {},
   "outputs": [],
   "source": []
  }
 ],
 "metadata": {
  "kernelspec": {
   "display_name": "Python 3",
   "language": "python",
   "name": "python3"
  },
  "language_info": {
   "codemirror_mode": {
    "name": "ipython",
    "version": 3
   },
   "file_extension": ".py",
   "mimetype": "text/x-python",
   "name": "python",
   "nbconvert_exporter": "python",
   "pygments_lexer": "ipython3",
   "version": "3.6.4"
  }
 },
 "nbformat": 4,
 "nbformat_minor": 2
}
