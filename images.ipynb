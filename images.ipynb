{
 "cells": [
  {
   "cell_type": "code",
   "execution_count": 2,
   "metadata": {},
   "outputs": [],
   "source": [
    "import numpy as np\n",
    "import scipy\n",
    "import sympy\n",
    "import matplotlib.pyplot as plt"
   ]
  },
  {
   "cell_type": "code",
   "execution_count": 3,
   "metadata": {},
   "outputs": [],
   "source": [
    "from functions import Penalty2, BoxThreeDimensional, PDQ\n",
    "from optimizer import Basic_Newton,Zuni_Newton,LM_Newton,SR1,DFP,BFGS"
   ]
  },
  {
   "cell_type": "markdown",
   "metadata": {},
   "source": [
    "# Box Three Dimensional"
   ]
  },
  {
   "cell_type": "code",
   "execution_count": 12,
   "metadata": {},
   "outputs": [
    {
     "data": {
      "image/png": "[encoded data removed]",
      "text/plain": [
       "<matplotlib.figure.Figure at 0x7f3d2753c668>"
      ]
     },
     "metadata": {},
     "output_type": "display_data"
    }
   ],
   "source": [
    "object_f = BoxThreeDimensional(m=3)\n",
    "n = 200\n",
    "x = np.linspace(-20, 20, n)\n",
    "y = np.linspace(-20, 20, n)\n",
    "z = 1\n",
    "X, Y = np.meshgrid(x, y)\n",
    "res = []\n",
    "for y_ in y:\n",
    "    res.append([])\n",
    "    for x_ in x:\n",
    "        res[-1].append(object_f.calculate_value([x_,y_,z]))\n",
    "plt.contourf(X, Y, res)\n",
    "plt.show()"
   ]
  },
  {
   "cell_type": "code",
   "execution_count": 13,
   "metadata": {},
   "outputs": [
    {
     "data": {
      "image/png": "[encoded data removed]",
      "text/plain": [
       "<matplotlib.figure.Figure at 0x7f3d2768f780>"
      ]
     },
     "metadata": {},
     "output_type": "display_data"
    }
   ],
   "source": [
    "object_f = BoxThreeDimensional(m=3)\n",
    "n = 200\n",
    "x = np.linspace(-20, 20, n)\n",
    "y = np.linspace(-20, 20, n)\n",
    "z = -1\n",
    "X, Y = np.meshgrid(x, y)\n",
    "res = []\n",
    "for y_ in y:\n",
    "    res.append([])\n",
    "    for x_ in x:\n",
    "        res[-1].append(object_f.calculate_value([x_,y_,z]))\n",
    "plt.contourf(X, Y, res)\n",
    "plt.show()"
   ]
  },
  {
   "cell_type": "code",
   "execution_count": 4,
   "metadata": {},
   "outputs": [
    {
     "data": {
      "image/png": "[encoded data removed]",
      "text/plain": [
       "<matplotlib.figure.Figure at 0x7fd924f2da20>"
      ]
     },
     "metadata": {},
     "output_type": "display_data"
    }
   ],
   "source": [
    "object_f = BoxThreeDimensional(m=5)\n",
    "n = 200\n",
    "x = np.linspace(-20, 20, n)\n",
    "y = np.linspace(-20, 20, n)\n",
    "z = 1\n",
    "X, Y = np.meshgrid(x, y)\n",
    "res = []\n",
    "for y_ in y:\n",
    "    res.append([])\n",
    "    for x_ in x:\n",
    "        res[-1].append(object_f.calculate_value([x_,y_,z]))\n",
    "plt.contourf(X, Y, res)\n",
    "plt.show()"
   ]
  },
  {
   "cell_type": "code",
   "execution_count": null,
   "metadata": {},
   "outputs": [],
   "source": []
  }
 ],
 "metadata": {
  "kernelspec": {
   "display_name": "Python 3",
   "language": "python",
   "name": "python3"
  },
  "language_info": {
   "codemirror_mode": {
    "name": "ipython",
    "version": 3
   },
   "file_extension": ".py",
   "mimetype": "text/x-python",
   "name": "python",
   "nbconvert_exporter": "python",
   "pygments_lexer": "ipython3",
   "version": "3.6.0"
  }
 },
 "nbformat": 4,
 "nbformat_minor": 2
}
